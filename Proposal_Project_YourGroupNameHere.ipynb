{
 "cells": [
  {
   "attachments": {},
   "cell_type": "markdown",
   "metadata": {},
   "source": [
    "# COGS 188 - Project Proposal"
   ]
  },
  {
   "attachments": {},
   "cell_type": "markdown",
   "metadata": {},
   "source": [
    "# Project Description\n",
    "\n",
    "You have the choice of doing either (1) an AI solve a problem style project or (2) run a Special Topics class on a topic of your choice.  If you want to do (2) you should fill out the _other_ proposal for that. This is the proposal description for (1).\n",
    "\n",
    "You will design and execute a machine learning project. There are a few constraints on the nature of the allowed project. \n",
    "- The problem addressed will not be a \"toy problem\" or \"common training students problem\" like 8-Queens or a small Traveling Salesman Problem or similar\n",
    "- If its the kind of problem (e.g., RL) that interacts with a simulator or live task, then the problem will have a reasonably complex action space. For instance, a wupus world kind of thing with a 9x9 grid is definitely too small.  A simulated mountain car with a less complex 2-d road and simplified dynamics seems like a fairly low achievement level.  A more complex 3-d mountain car simulation with large extent and realistic dynamics, sure sounds great!\n",
    "- If its the kind of problem that uses a dataset, then the dataset will have >1k observations and >5 variables. I'd prefer more like >10k observations and >10 variables. A general rule is that if you have >100x more observations than variables, your solution will likely generalize a lot better. The goal of training an unsupervised machine learning model is to learn the underlying pattern in a dataset in order to generalize well to unseen data, so choosing a large dataset is very important.\n",
    "- The project must include some elements we talked about in the course\n",
    "- The project will include a model selection and/or feature selection component where you will be looking for the best setup to maximize the performance of your AI system. Generally RL tasks may require a huge amount of training, so extensive grid search is unlikely to be possible. However expoloring a few reasonable hyper-parameters may still be possible. \n",
    "- You will evaluate the performance of your AI system using more than one appropriate metric\n",
    "- You will be writing a report describing and discussing these accomplishments\n",
    "\n",
    "\n",
    "Feel free to delete this description section when you hand in your proposal."
   ]
  },
  {
   "cell_type": "markdown",
   "metadata": {},
   "source": [
    "# Names\n",
    "\n",
    "- Katie Chung\n",
    "- Jiawei Gao\n",
    "- Grace Ortiz\n",
    "- Hsiang-An Pao"
   ]
  },
  {
   "cell_type": "markdown",
   "metadata": {},
   "source": [
    "# Abstract - Jiawei\n",
    "This section should be short and clearly stated. It should be a single paragraph <200 words.  It should summarize: \n",
    "- what your goal/problem is\n",
    "- what the data used represents and how they are measured\n",
    "- what you will be doing with the data\n",
    "- how performance/success will be measured\n",
    "\n",
    "Autonomous driving has the potential to improve road safety, enhance transportation efficiency, and reduce human driving errors. However, realiability of decision-making in dynamic environments remains a major challenge. This study aims to evaluate AI models for autonomous vehicle control using Webots, a high-fidelity simulation platform. The selected models will be tested under diverse driving scenarios to determine the most effective strategies for safe and efficient navigation. ...... [Data description needed]  The models will be assessed based on key performance metrics. Generaly, it includes collision avoidance, lane adherence, traffic rule compliance, and travel efficiency. Success will be measured by model’s ability to navigate under complex scenarios with minimized infractions and optimal route completion time. By systematically testing AI-driven decision-making strategies, this project contributes to the development of robustness, interpretability, and high-performance of autonomous vehicle systems."
   ]
  },
  {
   "attachments": {},
   "cell_type": "markdown",
   "metadata": {},
   "source": [
    "# Background - Jiawei\n",
    "Autonomous vehicles have the potential to revolutionize transportation by reducing human driving errors and improving traffic efficiency. According to the National Highway Traffic Safety Administration (NHTSA), there are about 94% of road accidents are caused by human errors, which indicates the potential safety benefits of self-driving technology. However, despite the advancements in AI algorithms, how to ensure safety and reliability of self-driving technology, and also make perfect decisions remains a significant challenge, especially in complex, multi-agent environments where vehicles interact with a mass of unpredictable human drivers, cyclists, and pedestrians<a name=\"shalev\"></a><sup>[1]</sup>. Algorithms must dynamically adjust to current environments such as uncontrolled intersections, lane merging, or sudden braking from other vehicles. Therefore, a robust decision-making system is crucial for the success.\n",
    "\n",
    "One promising approach to enhancing the realiability of decision-making is through deep reinforcement learning (RL). Unlike traditional rule-based systems, which rely on handcrafted heuristics, RL allows vehicles to learn from experience and optimize their actions over time. El Sallab et al. propose an RL-based framework that integrates recurrent neural networks (RNNs) to improve decision-making in partially observable environments<a name=\"sallab\"></a><sup>[1]</sup>. This framework helps autonomous vehicles remember past information, which is crucial in some complicated scenarios like hidden pedestrians suddenly emerging from behind parked cars or anticipating the acceleration patterns of nearby vehicles. Furthermore, RL enables autonomous vehicles to optimize their driving policies based on multiple objectives, for example, minimizing energy consumption while maintaining safety and efficiency.\n",
    "\n",
    "In addition, autonomous vehicles are supposed to be designed to navigate real-world traffic interactions where human's unpredictability plays a major role. Shalev-Shwartz et al. emphasize that multi-agent RL techniques are essential to equip autonomous vehicles with the ability to interact with human drivers dynamically<a name=\"shalev\"></a><sup>[2]</sup>. For instance, when merging onto a highway, a self-driving car must balance confidence and caution. It faces to decide whether to yield or proceed based on the behavior of nearby vehicles. Similarly, in urban settings, an self-driving car must determine when it is appropriate to make an left turn based on the flow of oncoming traffic. Traditional models struggle with these dynamic interactions, which makes RL-based methods a promising direction for improving human-like driving behavior.\n",
    "\n",
    "While RL has shown potential, one of its key limitations is the lack of interpretability in deep learning models. Unlike human drivers, we can explain their decisions based on rules and prior experiences. RL-based sel-driving cars operate like black-box systems, it is difficult to justify their actions in some critical situations. Kim et al. address this issue by developing a method for generating textual explanations for self-driving decisions. They use the attention-based deep learning models to highlight relevant visual cues that influenced the vehicle’s choices<a name=\"kim\"></a><sup>[3]</sup>. For example, an autonomous vehicle might explain its decision to slow down by stating: \"The vehicle is slowing down because a pedestrian is approaching the crosswalk\", which makes AI-driven decisions more transparent and trustworthy to human passengers.\n",
    "\n",
    "Beyond technical challenges, public perception is also a crucial barrier to the widespread adoption of autonomous vehicles. Schoettle and Sivak conducted a cross-national survey to examine public attitudes to self-driving technology in the U.S., U.K., and Australia<a name=\"schoettle\"></a><sup>[4]</sup>. Their findings indicate that even though many individuals support advancements of self-driving cars, a significant portion of respondents express concerns about safety, cybersecurity, and reliability. Notably, people are more comfortable with partial automation (e.g., lane-keeping assistance) but still remain skeptical of fully autonomous systems, which remove human control entirely. This skepticism is mainly caused by some incidents of high social interest, such as Tesla’s Autopilot-related crashes, which raise many questions about the readiness of this technology under real-world scenario.\n",
    "\n",
    "Another critical issue is the transition period, where human-driven cars and autonomous vehicles must share the road. Sivak and Schoettle warn that during this special phase, safety may initially decline because human drivers might struggle to anticipate self-driving cars' behaviors, and autonomous vehicles might fail to predict erratic human driving patterns as well<a name=\"sivak\"></a><sup>[5]</sup>. For example, human drivers often rely on eye contact or subtle hand gestures to negotiate with others about the right of the way.  Self-driving cars currently struggle to interpret it. Additionally, autonomous vehicles may obey too strictly to traffic rules. It potentially causes disruptions in environments where human drivers often follow by some informal rules, such as stops at empty intersections or road sides. These challenges highlight the need for gradual integration strategies to combine self-driving cars with V2X (vehicle-to-everything) communication systems to facilitate smoother coordination between human and autonomous vehicles.\n",
    "\n",
    "Our study builds on prior work by testing AI models under dynamic driving conditions through using Webots, a simulation platform for autonomous vehicle research. We aim to identify the most effective strategies for ensuring safty and efficiecy of autonomous navigation. By integrating reinforcement learning techniques with explainable models, this project contributes to the development of autonomous vehicles that can solve to real-world driving challenges and also maintain interpretability and public trust."
   ]
  },
  {
   "cell_type": "markdown",
   "metadata": {},
   "source": [
    "# Problem Statement - Katie\n",
    "\n",
    "Clearly describe the problem that you are solving. Avoid ambiguous words. The problem described should be well defined and should have at least one ML-relevant potential solution. Additionally, describe the problem thoroughly such that it is clear that the problem is quantifiable (the problem can be expressed in mathematical or logical terms), measurable (the problem can be measured by some metric and clearly observed), and replicable (the problem can be reproduced and occurs more than once).\n",
    "\n",
    "Want to figure out the model that acheives the best score according to multiple metrics for self-driving car simulations via Carla. \n",
    "Define metrics:\n",
    "- safety\n",
    "- minimize collisions/avoid obstacles\n",
    "- staying wthin lane\n",
    "- following traffic signals\n",
    "- getting to correct destination in a timely manner\n",
    "\n"
   ]
  },
  {
   "cell_type": "markdown",
   "metadata": {},
   "source": [
    "# Data - Grace\n",
    "\n",
    "You should have a strong idea of what dataset(s) will be used to accomplish this project. \n",
    "\n",
    "If you know what (some) of the data you will use, please give the following information for each dataset:\n",
    "- link/reference to obtain it\n",
    "- description of the size of the dataset (# of variables, # of observations)\n",
    "- what an observation consists of\n",
    "- what some critical variables are, how they are represented\n",
    "- any special handling, transformations, cleaning, etc will be needed\n",
    "\n",
    "If you don't yet know what your dataset(s) will be, you should describe what you desire in terms of the above bullets."
   ]
  },
  {
   "cell_type": "markdown",
   "metadata": {},
   "source": [
    "# Proposed Solution - Hsiang-An\n",
    "\n",
    "In this section, clearly describe a solution to the problem. The solution should be applicable to the project domain and appropriate for the dataset(s) or input(s) given. Provide enough detail (e.g., algorithmic description and/or theoretical properties) to convince us that your solution is applicable. Why might your solution work? Make sure to describe how the solution will be tested.  \n",
    "\n",
    "If you know details already, describe how (e.g., library used, function calls) you plan to implement the solution in a way that is reproducible.\n",
    "\n",
    "If it is appropriate to the problem statement, describe a benchmark model<a name=\"sota\"></a>[<sup>[3]</sup>](#sotanote) against which your solution will be compared. "
   ]
  },
  {
   "cell_type": "markdown",
   "metadata": {},
   "source": [
    "# Evaluation Metrics - Katie\n",
    "\n",
    "Propose at least one evaluation metric that can be used to quantify the performance of both the benchmark model and the solution model. The evaluation metric(s) you propose should be appropriate given the context of the data, the problem statement, and the intended solution. Describe how the evaluation metric(s) are derived and provide an example of their mathematical representations (if applicable). Complex evaluation metrics should be clearly defined and quantifiable (can be expressed in mathematical or logical terms)."
   ]
  },
  {
   "cell_type": "markdown",
   "metadata": {},
   "source": [
    "# Ethics & Privacy - Hsiang-An"
   ]
  },
  {
   "cell_type": "markdown",
   "metadata": {},
   "source": [
    "If your project has obvious potential concerns with ethics or data privacy discuss that here.  Almost every ML project put into production can have ethical implications if you use your imagination. Use your imagination. Get creative!\n",
    "\n",
    "Even if you can't come up with an obvious ethical concern that should be addressed, you should know that a large number of ML projects that go into producation have unintended consequences and ethical problems once in production. How will your team address these issues?\n",
    "\n",
    "Consider a tool to help you address the potential issues such as https://deon.drivendata.org"
   ]
  },
  {
   "cell_type": "markdown",
   "metadata": {},
   "source": [
    "# Team Expectations "
   ]
  },
  {
   "cell_type": "markdown",
   "metadata": {},
   "source": [
    "\n",
    "* Meet once a week via Zoom, more as needed closer to the end of the quarter\n",
    "* Respond in group chat within 12 hours\n",
    "* Conflict resolved by majority, any conflicts should be brought up within group before seeking TA assistance \n",
    "* Work should be divided evenly to the best of the group's ability\n",
    "* Be awafre of deadlines, each member's portion of work should be completed at least a couple hours prior to deadline to allow for revision \n"
   ]
  },
  {
   "cell_type": "markdown",
   "metadata": {},
   "source": [
    "# Project Timeline Proposal - Hsiang-An"
   ]
  },
  {
   "cell_type": "markdown",
   "metadata": {},
   "source": [
    "Replace this with something meaningful that is appropriate for your needs. It doesn't have to be something that fits this format.  It doesn't have to be set in stone... \"no battle plan survives contact with the enemy\". But you need a battle plan nonetheless, and you need to keep it updated so you understand what you are trying to accomplish, who's responsible for what, and what the expected due dates are for each item.\n",
    "\n",
    "| Meeting Date  | Meeting Time| Completed Before Meeting  | Discuss at Meeting |\n",
    "|---|---|---|---|\n",
    "| 1/20  |  1 PM |  Brainstorm topics/questions (all)  | Determine best form of communication; Discuss and decide on final project topic; discuss hypothesis; begin background research | \n",
    "| 1/26  |  10 AM |  Do background research on topic (Pelé) | Discuss ideal dataset(s) and ethics; draft project proposal | \n",
    "| 2/1  | 10 AM  | Edit, finalize, and submit proposal; Search for datasets (Beckenbaur)  | Discuss Wrangling and possible analytical approaches; Assign group members to lead each specific part   |\n",
    "| 2/14  | 6 PM  | Import & Wrangle Data ,do some EDA (Maradonna) | Review/Edit wrangling/EDA; Discuss Analysis Plan   |\n",
    "| 2/23  | 12 PM  | Finalize wrangling/EDA; Begin programming for project (Cruyff) | Discuss/edit project code; Complete project |\n",
    "| 3/13  | 12 PM  | Complete analysis; Draft results/conclusion/discussion (Carlos)| Discuss/edit full project |\n",
    "| 3/19  | Before 11:59 PM  | NA | Turn in Final Project  |"
   ]
  },
  {
   "cell_type": "markdown",
   "metadata": {},
   "source": [
    "# Footnotes\n",
    "<a name=\"shalevnote\"></a>1.^: Shalev-Shwartz, S., Shammah, S., & Shashua, A. (2016). Safe, multi-agent reinforcement learning for autonomous driving. arXiv preprint arXiv:1610.03295. https://arxiv.org/abs/1610.03295<br>\n",
    "\n",
    "<a name=\"sallabnote\"></a>2.^: El Sallab, A., Abdou, M., Perot, E., & Yogamani, S. (2017). Deep reinforcement learning framework for autonomous driving. arXiv preprint arXiv:1704.02532. https://arxiv.org/abs/1704.02532<br>\n",
    "\n",
    "<a name=\"kimnote\"></a>3.^: Kim, J., Rohrbach, A., Darrell, T., Canny, J., & Akata, Z. (2018). Textual explanations for self-driving vehicles. European Conference on Computer Vision (ECCV). https://openaccess.thecvf.com/content_ECCV_2018/html/Jinkyu_Kim_Textual_Explanations_for_ECCV_2018_paper.html<br>\n",
    "\n",
    "<a name=\"schoettlenote\"></a>4.^: Schoettle, B., & Sivak, M. (2014). A survey of public opinion about autonomous and self-driving vehicles in the U.S., the U.K., and Australia. University of Michigan Transportation Research Institute. https://deepblue.lib.umich.edu/handle/2027.42/108384<br>\n",
    "\n",
    "<a name=\"sivaknote\"></a>5.^: Sivak, M., & Schoettle, B. (2015). Road safety with self-driving vehicles: General limitations and road sharing with conventional vehicles. University of Michigan Transportation Research Institute. https://deepblue.lib.umich.edu/handle/2027.42/110789<br>\n"
   ]
  },
  {
   "cell_type": "code",
   "execution_count": null,
   "metadata": {},
   "outputs": [],
   "source": []
  }
 ],
 "metadata": {
  "kernelspec": {
   "display_name": "Python 3",
   "language": "python",
   "name": "python3"
  },
  "language_info": {
   "codemirror_mode": {
    "name": "ipython",
    "version": 3
   },
   "file_extension": ".py",
   "mimetype": "text/x-python",
   "name": "python",
   "nbconvert_exporter": "python",
   "pygments_lexer": "ipython3",
   "version": "3.7.11 (default, Jul 27 2021, 07:03:16) \n[Clang 10.0.0 ]"
  },
  "vscode": {
   "interpreter": {
    "hash": "40d3a090f54c6569ab1632332b64b2c03c39dcf918b08424e98f38b5ae0af88f"
   }
  }
 },
 "nbformat": 4,
 "nbformat_minor": 2
}
